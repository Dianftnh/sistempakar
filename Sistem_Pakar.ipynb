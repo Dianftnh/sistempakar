{
  "cells": [
    {
      "cell_type": "code",
      "execution_count": 1,
      "metadata": {
        "id": "FpQuVnhKXVu_"
      },
      "outputs": [],
      "source": [
        "diagnoses = {\n",
        "    \"P01\": \"Pseudomonas Hydrophylla\",\n",
        "    \"P02\": \"Bintik Putih (White Spot)\",\n",
        "    \"P03\": \"Trematoda\",\n",
        "    \"P04\": \"Lernea Sp\"\n",
        "}\n",
        "\n",
        "evidence = {\n",
        "    \"G01\": \"Borok pada Kulit\",\n",
        "    \"G02\": \"Pendarahan pada Kulit\",\n",
        "    \"G03\": \"Lemah\",\n",
        "    \"G04\": \"Kurus\",\n",
        "    \"G05\": \"Nafsu Makan Hilang\",\n",
        "    \"G06\": \"Kulit Gelap\",\n",
        "    \"G07\": \"Kulit Kasar\",\n",
        "    \"G08\": \"Susah Bernapas\",\n",
        "    \"G09\": \"Infeksi Kulit Kepala, Badan Belakang, Insang, dan Sirip\",\n",
        "    \"G10\": \"Pendarahan pada Daging\"\n",
        "}\n",
        "\n",
        "base_knowledge = {\n",
        "    \"G01\": {\"diagnoses\": [\"P01\", \"P04\"], \"densitas\": 0.82},\n",
        "    \"G02\": {\"diagnoses\": [\"P01\", \"P02\", \"P04\"], \"densitas\": 0.73},\n",
        "    \"G03\": {\"diagnoses\": [\"P01\", \"P02\"], \"densitas\": 0.85},\n",
        "    \"G04\": {\"diagnoses\": [\"P01\"], \"densitas\": 0.78},\n",
        "    \"G05\": {\"diagnoses\": [\"P01\", \"P03\"], \"densitas\": 0.70},\n",
        "    \"G06\": {\"diagnoses\": [\"P02\"], \"densitas\": 0.82},\n",
        "    \"G07\": {\"diagnoses\": [\"P02\"], \"densitas\": 0.87},\n",
        "    \"G08\": {\"diagnoses\": [\"P02\"], \"densitas\": 0.76},\n",
        "    \"G09\": {\"diagnoses\": [\"P03\"], \"densitas\": 0.73},\n",
        "    \"G10\": {\"diagnoses\": [\"P04\"], \"densitas\": 0.88}\n",
        "}"
      ]
    },
    {
      "cell_type": "code",
      "execution_count": 2,
      "metadata": {
        "id": "6i2ABVfapVXa"
      },
      "outputs": [],
      "source": [
        "# === Fungsi Kombinasi Dempster-Shafer ===\n",
        "\n",
        "def combine_mass(m1, m2):\n",
        "    combined = {}\n",
        "    conflict = 0.0\n",
        "\n",
        "    for h1, v1 in m1.items():\n",
        "        for h2, v2 in m2.items():\n",
        "            if h1 == (\"Theta\",):\n",
        "                intersection = h2\n",
        "            elif h2 == (\"Theta\",):\n",
        "                intersection = h1\n",
        "            else:\n",
        "                intersection = tuple(sorted(set(h1).intersection(set(h2))))\n",
        "\n",
        "            if not intersection:\n",
        "                conflict += v1 * v2\n",
        "            else:\n",
        "                if intersection in combined:\n",
        "                    combined[intersection] += v1 * v2\n",
        "                else:\n",
        "                    combined[intersection] = v1 * v2\n",
        "\n",
        "    if conflict != 1:\n",
        "        for key in combined:\n",
        "            combined[key] = combined[key] / (1 - conflict)\n",
        "\n",
        "    return combined"
      ]
    },
    {
      "cell_type": "code",
      "source": [
        "# === Fungsi Inferensi ===\n",
        "\n",
        "def dempster_shafer_inference(evidence_list, base_knowledge):\n",
        "    mass_functions = []\n",
        "\n",
        "    for gejala in evidence_list:\n",
        "        if gejala in base_knowledge:\n",
        "            data = base_knowledge[gejala]\n",
        "            diagnoses_list = data[\"diagnoses\"]\n",
        "            density = data[\"densitas\"]\n",
        "\n",
        "            mass = {}\n",
        "            diagnoses_tuple = tuple(sorted(diagnoses_list))\n",
        "            mass[diagnoses_tuple] = density\n",
        "            mass[(\"Theta\",)] = 1 - density\n",
        "\n",
        "            mass_functions.append(mass)\n",
        "\n",
        "    if not mass_functions:\n",
        "        return {}\n",
        "\n",
        "    current_mass = mass_functions[0]\n",
        "    for next_mass in mass_functions[1:]:\n",
        "        current_mass = combine_mass(current_mass, next_mass)\n",
        "\n",
        "    return current_mass"
      ],
      "metadata": {
        "id": "KacWw3j02bq4"
      },
      "execution_count": 3,
      "outputs": []
    },
    {
      "cell_type": "code",
      "source": [
        "# === Program Utama ===\n",
        "\n",
        "if __name__ == \"__main__\":\n",
        "    print(\"=== Sistem Pakar Diagnosa Penyakit Ikan Lele ===\")\n",
        "    print(\"Daftar Gejala:\")\n",
        "    for kode, nama in evidence.items():\n",
        "        print(f\"{kode}: {nama}\")\n",
        "\n",
        "    user_input = input(\"\\nMasukkan kode gejala yang dialami (pisahkan dengan koma, contoh: G01,G06,G08): \")\n",
        "    selected_gejala = [kode.strip().upper() for kode in user_input.split(\",\")]\n",
        "\n",
        "    hasil = dempster_shafer_inference(selected_gejala, base_knowledge)\n",
        "\n",
        "    print(\"\\n=== Hasil Diagnosa ===\")\n",
        "    for hipotesis, belief in hasil.items():\n",
        "        if hipotesis != (\"Theta\",):\n",
        "            label = \" atau \".join(diagnoses.get(d, d) for d in hipotesis)\n",
        "            print(f\"{label}: {belief:.4f}\")\n",
        "    print(f\"Ketidakpastian (Theta): {hasil.get(('Theta',), 0):.4f}\")"
      ],
      "metadata": {
        "colab": {
          "base_uri": "https://localhost:8080/"
        },
        "id": "aX0xA340rHc-",
        "outputId": "345e731c-a2bb-4ed3-f0bf-aa848b98b204"
      },
      "execution_count": 4,
      "outputs": [
        {
          "output_type": "stream",
          "name": "stdout",
          "text": [
            "=== Sistem Pakar Diagnosa Penyakit Ikan Lele ===\n",
            "Daftar Gejala:\n",
            "G01: Borok pada Kulit\n",
            "G02: Pendarahan pada Kulit\n",
            "G03: Lemah\n",
            "G04: Kurus\n",
            "G05: Nafsu Makan Hilang\n",
            "G06: Kulit Gelap\n",
            "G07: Kulit Kasar\n",
            "G08: Susah Bernapas\n",
            "G09: Infeksi Kulit Kepala, Badan Belakang, Insang, dan Sirip\n",
            "G10: Pendarahan pada Daging\n",
            "\n",
            "Masukkan kode gejala yang dialami (pisahkan dengan koma, contoh: G01,G06,G08): G01,G09\n",
            "\n",
            "=== Hasil Diagnosa ===\n",
            "Pseudomonas Hydrophylla atau Lernea Sp: 0.5516\n",
            "Trematoda: 0.3274\n",
            "Ketidakpastian (Theta): 0.1211\n"
          ]
        }
      ]
    },
    {
      "cell_type": "code",
      "source": [],
      "metadata": {
        "id": "2VRu-VTSCie6"
      },
      "execution_count": 4,
      "outputs": []
    }
  ],
  "metadata": {
    "colab": {
      "provenance": []
    },
    "kernelspec": {
      "display_name": "Python 3",
      "name": "python3"
    },
    "language_info": {
      "name": "python"
    }
  },
  "nbformat": 4,
  "nbformat_minor": 0
}